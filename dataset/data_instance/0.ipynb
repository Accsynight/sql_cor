{
 "cells": [
  {
   "cell_type": "code",
   "execution_count": 2,
   "metadata": {},
   "outputs": [],
   "source": [
    "import json\n",
    "\n",
    "with open('./spider_all_instance.json', 'r')as f:\n",
    "    bird_all_instance = json.load(f)\n",
    "\n",
    "gold_list = []\n",
    "for instance in bird_all_instance:\n",
    "    temp = instance['query'] + '\\t---- db_id ----\\t' + instance['db_id']\n",
    "    gold_list.append(temp)\n",
    "\n",
    "with open('./spider_all_gold.txt', 'w')as f:\n",
    "    for item in gold_list:\n",
    "        f.write(item + '\\n')"
   ]
  }
 ],
 "metadata": {
  "kernelspec": {
   "display_name": "cot",
   "language": "python",
   "name": "python3"
  },
  "language_info": {
   "codemirror_mode": {
    "name": "ipython",
    "version": 3
   },
   "file_extension": ".py",
   "mimetype": "text/x-python",
   "name": "python",
   "nbconvert_exporter": "python",
   "pygments_lexer": "ipython3",
   "version": "3.8.13"
  }
 },
 "nbformat": 4,
 "nbformat_minor": 2
}
