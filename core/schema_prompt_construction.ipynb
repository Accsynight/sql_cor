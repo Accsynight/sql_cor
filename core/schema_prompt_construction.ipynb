{
 "cells": [
  {
   "cell_type": "code",
   "execution_count": 20,
   "metadata": {},
   "outputs": [
    {
     "name": "stdout",
     "output_type": "stream",
     "text": [
      "69\n"
     ]
    }
   ],
   "source": [
    "import json\n",
    "\n",
    "table_path = '../dataset/bird/train/train/train_tables.json'\n",
    "save_path = '../dataset/schema_prompt/bird_train.json'\n",
    "\n",
    "\n",
    "with open(table_path, 'r')as f:\n",
    "    tables = json.load(f)\n",
    "\n",
    "tables_prompt =[]\n",
    "for table in tables:\n",
    "    dict = {}\n",
    "    db_id = table[\"db_id\"]\n",
    "    tables = table[\"table_names_original\"]\n",
    "    columns = []\n",
    "    for idx, _ in enumerate(tables):\n",
    "        column_tmp = []\n",
    "        for column_names in table[\"column_names_original\"]:\n",
    "            if idx == column_names[0]:\n",
    "                column_tmp.append(column_names[1])\n",
    "        columns.append(column_tmp)\n",
    "    dict[\"db_id\"] = db_id\n",
    "    dict[\"tables\"] = tables\n",
    "    dict[\"columns\"] = columns\n",
    "    tables_prompt.append(dict)\n",
    "\n",
    "print(len(tables_prompt))\n",
    "\n",
    "def format_database_info(database_dict):\n",
    "    # 提取数据库名称\n",
    "    db_name = database_dict['db_id']\n",
    "    # 提取表格名称\n",
    "    tables = database_dict['tables']\n",
    "    # 提取列信息\n",
    "    columns = database_dict['columns']\n",
    "    # 开始构建输出字符串\n",
    "    result = f\"A database '{db_name}' has {len(tables)} tables named '{', '.join(tables)}'.\\n\"\n",
    "    # 遍历每个表格和对应的列\n",
    "    for table, cols in zip(tables, columns):\n",
    "        result += f\"{table} table has columns: '{', '.join(cols)}'.\\n\"\n",
    "    return result\n",
    "\n",
    "for table in tables_prompt:\n",
    "    prompt = format_database_info(table)\n",
    "    table['prompt'] = prompt\n",
    "\n",
    "with open(save_path, 'w')as f:\n",
    "    json.dump(tables_prompt, f, indent=4)"
   ]
  }
 ],
 "metadata": {
  "kernelspec": {
   "display_name": "cot",
   "language": "python",
   "name": "python3"
  },
  "language_info": {
   "codemirror_mode": {
    "name": "ipython",
    "version": 3
   },
   "file_extension": ".py",
   "mimetype": "text/x-python",
   "name": "python",
   "nbconvert_exporter": "python",
   "pygments_lexer": "ipython3",
   "version": "3.8.13"
  }
 },
 "nbformat": 4,
 "nbformat_minor": 2
}
